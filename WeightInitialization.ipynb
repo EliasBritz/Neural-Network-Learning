{
  "nbformat": 4,
  "nbformat_minor": 0,
  "metadata": {
    "colab": {
      "provenance": []
    },
    "kernelspec": {
      "name": "python3",
      "display_name": "Python 3"
    },
    "language_info": {
      "name": "python"
    }
  },
  "cells": [
    {
      "cell_type": "markdown",
      "source": [
        "# Weight Initilization"
      ],
      "metadata": {
        "id": "XM7A-3ABHSkk"
      }
    },
    {
      "cell_type": "code",
      "execution_count": 1,
      "metadata": {
        "id": "_ypDv7Y-HIwV"
      },
      "outputs": [],
      "source": [
        "import numpy as np\n",
        "import matplotlib.pyplot as plt\n",
        "\n",
        "from tensorflow.keras import Sequential\n",
        "from tensorflow.keras.layers import Dense, Activation\n",
        "from tensorflow.keras.initializers import Zeros, RandomNormal, glorot_normal, glorot_uniform"
      ]
    },
    {
      "cell_type": "markdown",
      "source": [
        "#### Set Number of Neurons\n"
      ],
      "metadata": {
        "id": "Ihjgw0xkSyAb"
      }
    },
    {
      "cell_type": "code",
      "source": [
        "n_input = 784\n",
        "n_dense = 256"
      ],
      "metadata": {
        "id": "cM2hZIoFHSVk"
      },
      "execution_count": 2,
      "outputs": []
    },
    {
      "cell_type": "markdown",
      "source": [
        "#### Set a bias initializer"
      ],
      "metadata": {
        "id": "ICvTE0CMSx8M"
      }
    },
    {
      "cell_type": "code",
      "source": [
        "b_init = Zeros()"
      ],
      "metadata": {
        "id": "ewncok93SsKY"
      },
      "execution_count": 3,
      "outputs": []
    },
    {
      "cell_type": "markdown",
      "source": [
        "#### Select weight initializer"
      ],
      "metadata": {
        "id": "ZtdMPRTDTfOE"
      }
    },
    {
      "cell_type": "code",
      "source": [
        "# w_init = RandomNormal(stddev=1.0)\n",
        "w_init = glorot_normal()\n",
        "# w_init = glorot_uniform()"
      ],
      "metadata": {
        "id": "6te89LBNS-ES"
      },
      "execution_count": 4,
      "outputs": []
    },
    {
      "cell_type": "markdown",
      "source": [
        "#### Design Neural Network Architecture"
      ],
      "metadata": {
        "id": "S5R98W9RUKpM"
      }
    },
    {
      "cell_type": "code",
      "source": [
        "model = Sequential()\n",
        "\n",
        "model.add(Dense(\n",
        "    n_dense,\n",
        "    input_dim= n_input,\n",
        "    kernel_initializer = w_init,\n",
        "    bias_initializer = b_init\n",
        "))\n",
        "\n",
        "# model.add(Activation('sigmoid'))\n",
        "\n",
        "model.add(Activation('tanh'))\n",
        "# model.add(Activation('relu'))"
      ],
      "metadata": {
        "id": "YCc4b-IQTi2W"
      },
      "execution_count": 5,
      "outputs": []
    },
    {
      "cell_type": "markdown",
      "source": [
        "#### Generate random x_values"
      ],
      "metadata": {
        "id": "e3TO1kMXVOl2"
      }
    },
    {
      "cell_type": "code",
      "source": [
        "x = np.random.random((1, n_input))"
      ],
      "metadata": {
        "id": "V_0R8PXhUN1d"
      },
      "execution_count": 6,
      "outputs": []
    },
    {
      "cell_type": "markdown",
      "source": [
        "#### Forward propagate through NN"
      ],
      "metadata": {
        "id": "qIzGRwOHVoAa"
      }
    },
    {
      "cell_type": "code",
      "source": [
        "a = model.predict(x)"
      ],
      "metadata": {
        "colab": {
          "base_uri": "https://localhost:8080/"
        },
        "id": "jqjtliDTVjd8",
        "outputId": "2cf2ca27-af18-4786-b589-d998b478a602"
      },
      "execution_count": 7,
      "outputs": [
        {
          "output_type": "stream",
          "name": "stdout",
          "text": [
            "1/1 [==============================] - 0s 114ms/step\n"
          ]
        }
      ]
    },
    {
      "cell_type": "code",
      "source": [
        "a"
      ],
      "metadata": {
        "colab": {
          "base_uri": "https://localhost:8080/"
        },
        "id": "a4125gIOV08C",
        "outputId": "84f9c1bb-b1ab-4c4b-8b97-02706da479fa"
      },
      "execution_count": 8,
      "outputs": [
        {
          "output_type": "execute_result",
          "data": {
            "text/plain": [
              "array([[-0.67422163, -0.00907136, -0.5033189 ,  0.88394725, -0.5052216 ,\n",
              "        -0.30629054, -0.215002  ,  0.8823841 ,  0.6197993 ,  0.26772892,\n",
              "         0.17969845, -0.43622416,  0.35037777,  0.8286501 , -0.17772645,\n",
              "        -0.08323377,  0.54676175,  0.49155068, -0.7780451 , -0.81978285,\n",
              "         0.23395048, -0.6224685 ,  0.55813307,  0.57391554, -0.14502573,\n",
              "         0.11143879,  0.24191253, -0.09772332,  0.5162419 , -0.7094876 ,\n",
              "         0.83109236, -0.7420085 ,  0.5772185 , -0.09162844, -0.33720958,\n",
              "        -0.301163  , -0.86443734, -0.9408536 ,  0.03544477,  0.43301907,\n",
              "        -0.20973316,  0.92285776,  0.05663196,  0.9087068 , -0.78258276,\n",
              "         0.6582574 , -0.43218145,  0.5935246 , -0.15250614,  0.19553564,\n",
              "        -0.74556863, -0.61721456, -0.4010142 , -0.05511883,  0.8823948 ,\n",
              "        -0.6007038 , -0.20077053, -0.05710125,  0.07071772, -0.6386465 ,\n",
              "         0.48647228,  0.63691485,  0.8650116 ,  0.505018  , -0.71079093,\n",
              "        -0.7575462 ,  0.18131024, -0.5427931 ,  0.16799709,  0.71520245,\n",
              "         0.9274985 ,  0.34526747,  0.473269  ,  0.85252297, -0.31844223,\n",
              "         0.26338923, -0.29818138,  0.43236244, -0.31313428,  0.93324775,\n",
              "        -0.10847807, -0.4127459 ,  0.45736963, -0.6971342 ,  0.3292517 ,\n",
              "         0.25308374, -0.63264716,  0.0171153 ,  0.9266279 ,  0.77177185,\n",
              "        -0.05026118,  0.70105875,  0.66897696,  0.36033872,  0.6057066 ,\n",
              "        -0.26666045, -0.35663128, -0.1356658 ,  0.42638612, -0.15773596,\n",
              "        -0.14188947,  0.21729341, -0.14484526,  0.45400074,  0.27199087,\n",
              "         0.5443052 ,  0.5034443 , -0.29468918,  0.05502398,  0.06799579,\n",
              "         0.5448736 ,  0.748456  , -0.48615536, -0.51250565,  0.36970776,\n",
              "         0.80249196, -0.02811446, -0.25495702,  0.63678   , -0.34091854,\n",
              "        -0.8026126 , -0.39009863, -0.7973889 , -0.327151  ,  0.790107  ,\n",
              "         0.9412505 , -0.41985726, -0.53841937,  0.60130864,  0.43773142,\n",
              "         0.34340099,  0.40024805,  0.10318613, -0.68740785, -0.3935958 ,\n",
              "         0.6964201 , -0.8507496 , -0.18211843, -0.5442488 , -0.02642008,\n",
              "        -0.47355482, -0.2886923 ,  0.1049054 ,  0.37552285,  0.27732974,\n",
              "         0.6158217 ,  0.22464134,  0.13712227, -0.8437128 ,  0.12918371,\n",
              "        -0.5374232 , -0.7930667 ,  0.46018267, -0.67420167, -0.56177497,\n",
              "        -0.18928102,  0.8304421 ,  0.35490745,  0.84368837, -0.32625258,\n",
              "        -0.6367153 , -0.5720863 , -0.4040774 , -0.08685223,  0.4217339 ,\n",
              "         0.09989888, -0.84475446,  0.63677186, -0.9261465 , -0.27117532,\n",
              "        -0.03836433,  0.4427124 , -0.04672138, -0.7217194 ,  0.01129338,\n",
              "        -0.08952416,  0.17807665, -0.7480893 , -0.85961527, -0.05767938,\n",
              "        -0.7120584 , -0.0120996 , -0.37669125, -0.7995145 ,  0.27936593,\n",
              "        -0.72162515,  0.7757162 , -0.395458  ,  0.76555717, -0.8875282 ,\n",
              "         0.2700792 , -0.47472247,  0.3654345 ,  0.4874435 ,  0.25179416,\n",
              "         0.12421955,  0.06145616, -0.7216013 ,  0.8014414 , -0.7356944 ,\n",
              "         0.11445099, -0.15038829, -0.2605945 ,  0.9334097 ,  0.30427593,\n",
              "        -0.37411097, -0.03122186, -0.13984267,  0.14850277,  0.39500484,\n",
              "        -0.14031789, -0.15732417, -0.48725188,  0.5552746 ,  0.6899297 ,\n",
              "         0.08800196, -0.10429211,  0.15647607,  0.75554115,  0.5670497 ,\n",
              "         0.35334557,  0.260418  , -0.90331954, -0.6288014 , -0.22164458,\n",
              "        -0.12192787,  0.7687671 ,  0.07937972,  0.7070423 ,  0.67963517,\n",
              "        -0.27152842,  0.17642619, -0.83881843,  0.26022342, -0.27813143,\n",
              "         0.7919809 , -0.00308689, -0.805084  ,  0.5432988 , -0.13870825,\n",
              "        -0.2013245 ,  0.05052172,  0.75537163,  0.62216187,  0.13968377,\n",
              "         0.5682929 ,  0.06328331,  0.03004049,  0.7070653 , -0.7167393 ,\n",
              "        -0.690904  ,  0.8679658 , -0.42319027, -0.901773  , -0.507037  ,\n",
              "         0.7824378 ]], dtype=float32)"
            ]
          },
          "metadata": {},
          "execution_count": 8
        }
      ]
    },
    {
      "cell_type": "code",
      "source": [
        "_ = plt.hist(np.transpose(a))"
      ],
      "metadata": {
        "colab": {
          "base_uri": "https://localhost:8080/",
          "height": 265
        },
        "id": "smIAimyDV16j",
        "outputId": "6010e725-51fe-433b-fe1e-a92faf706d58"
      },
      "execution_count": 9,
      "outputs": [
        {
          "output_type": "display_data",
          "data": {
            "text/plain": [
              "<Figure size 432x288 with 1 Axes>"
            ],
            "image/png": "[encoded data removed]"
          },
          "metadata": {
            "needs_background": "light"
          }
        }
      ]
    },
    {
      "cell_type": "code",
      "source": [],
      "metadata": {
        "id": "ZMolC-9HWEFb"
      },
      "execution_count": 9,
      "outputs": []
    }
  ]
}