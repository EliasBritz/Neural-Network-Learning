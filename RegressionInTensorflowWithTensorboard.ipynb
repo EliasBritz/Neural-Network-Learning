{
  "nbformat": 4,
  "nbformat_minor": 0,
  "metadata": {
    "colab": {
      "provenance": []
    },
    "kernelspec": {
      "name": "python3",
      "display_name": "Python 3"
    },
    "language_info": {
      "name": "python"
    }
  },
  "cells": [
    {
      "cell_type": "markdown",
      "source": [
        "# Regression Example in Tensorflow"
      ],
      "metadata": {
        "id": "2ufOcbRTqZ-i"
      }
    },
    {
      "cell_type": "markdown",
      "source": [
        "#### Load Dependencies"
      ],
      "metadata": {
        "id": "YQ2sIVN0qeKR"
      }
    },
    {
      "cell_type": "code",
      "execution_count": 2,
      "metadata": {
        "id": "JlNGqf9aqVRS"
      },
      "outputs": [],
      "source": [
        "import numpy as np\n",
        "from tensorflow.keras.datasets import boston_housing\n",
        "from tensorflow.keras.models import Sequential\n",
        "from tensorflow.keras.layers import Dense, Dropout\n",
        "from tensorflow.keras.layers import BatchNormalization\n",
        "from tensorflow.keras.callbacks import ModelCheckpoint, TensorBoard\n",
        "import os"
      ]
    },
    {
      "cell_type": "markdown",
      "source": [
        "#### Load Data"
      ],
      "metadata": {
        "id": "i5mZH6iUrOB-"
      }
    },
    {
      "cell_type": "code",
      "source": [
        "(x_train, y_train), (x_valid, y_valid) = boston_housing.load_data()"
      ],
      "metadata": {
        "id": "Q1_ymf-NrCk0"
      },
      "execution_count": 3,
      "outputs": []
    },
    {
      "cell_type": "code",
      "source": [
        "x_train.shape"
      ],
      "metadata": {
        "colab": {
          "base_uri": "https://localhost:8080/"
        },
        "id": "BHt96KotrSfg",
        "outputId": "adc7a842-d5a0-4ed5-bba1-bc5c277e610c"
      },
      "execution_count": 4,
      "outputs": [
        {
          "output_type": "execute_result",
          "data": {
            "text/plain": [
              "(404, 13)"
            ]
          },
          "metadata": {},
          "execution_count": 4
        }
      ]
    },
    {
      "cell_type": "code",
      "source": [
        "x_valid.shape"
      ],
      "metadata": {
        "colab": {
          "base_uri": "https://localhost:8080/"
        },
        "id": "fwfhm8R5rXzR",
        "outputId": "47a6058c-8cf7-4e50-c642-82f7945a3fa1"
      },
      "execution_count": 5,
      "outputs": [
        {
          "output_type": "execute_result",
          "data": {
            "text/plain": [
              "(102, 13)"
            ]
          },
          "metadata": {},
          "execution_count": 5
        }
      ]
    },
    {
      "cell_type": "code",
      "source": [
        "x_train[0]"
      ],
      "metadata": {
        "colab": {
          "base_uri": "https://localhost:8080/"
        },
        "id": "LqhekHLbrdw1",
        "outputId": "951fbb20-e7a8-4a12-d91a-9aa845f1fc38"
      },
      "execution_count": 6,
      "outputs": [
        {
          "output_type": "execute_result",
          "data": {
            "text/plain": [
              "array([  1.23247,   0.     ,   8.14   ,   0.     ,   0.538  ,   6.142  ,\n",
              "        91.7    ,   3.9769 ,   4.     , 307.     ,  21.     , 396.9    ,\n",
              "        18.72   ])"
            ]
          },
          "metadata": {},
          "execution_count": 6
        }
      ]
    },
    {
      "cell_type": "code",
      "source": [
        "y_train[0]"
      ],
      "metadata": {
        "colab": {
          "base_uri": "https://localhost:8080/"
        },
        "id": "gKEa29u2rn6V",
        "outputId": "22330e54-1026-41a5-f41c-c9840bf5040c"
      },
      "execution_count": 7,
      "outputs": [
        {
          "output_type": "execute_result",
          "data": {
            "text/plain": [
              "15.2"
            ]
          },
          "metadata": {},
          "execution_count": 7
        }
      ]
    },
    {
      "cell_type": "markdown",
      "source": [
        "#### Design Neural Network Architecture"
      ],
      "metadata": {
        "id": "_rlSfPOgrv2U"
      }
    },
    {
      "cell_type": "code",
      "source": [
        "model = Sequential()\n",
        "\n",
        "#first hidden layer\n",
        "model.add(Dense(32, input_dim=13, activation='relu'))\n",
        "model.add(BatchNormalization())\n",
        "\n",
        "#second hidden layer\n",
        "model.add(Dense(16, activation='relu'))\n",
        "model.add(BatchNormalization())\n",
        "model.add(Dropout(0.5))\n",
        "\n",
        "#output Layer\n",
        "model.add(Dense(1, activation='linear'))"
      ],
      "metadata": {
        "id": "JBnd8Z83rqE9"
      },
      "execution_count": 8,
      "outputs": []
    },
    {
      "cell_type": "code",
      "source": [
        "model.summary()"
      ],
      "metadata": {
        "colab": {
          "base_uri": "https://localhost:8080/"
        },
        "id": "HeuW04Hsr4AN",
        "outputId": "cfd621e7-18d8-4718-c194-4d57e548e6db"
      },
      "execution_count": 9,
      "outputs": [
        {
          "output_type": "stream",
          "name": "stdout",
          "text": [
            "Model: \"sequential\"\n",
            "_________________________________________________________________\n",
            " Layer (type)                Output Shape              Param #   \n",
            "=================================================================\n",
            " dense (Dense)               (None, 32)                448       \n",
            "                                                                 \n",
            " batch_normalization (BatchN  (None, 32)               128       \n",
            " ormalization)                                                   \n",
            "                                                                 \n",
            " dense_1 (Dense)             (None, 16)                528       \n",
            "                                                                 \n",
            " batch_normalization_1 (Batc  (None, 16)               64        \n",
            " hNormalization)                                                 \n",
            "                                                                 \n",
            " dropout (Dropout)           (None, 16)                0         \n",
            "                                                                 \n",
            " dense_2 (Dense)             (None, 1)                 17        \n",
            "                                                                 \n",
            "=================================================================\n",
            "Total params: 1,185\n",
            "Trainable params: 1,089\n",
            "Non-trainable params: 96\n",
            "_________________________________________________________________\n"
          ]
        }
      ]
    },
    {
      "cell_type": "markdown",
      "source": [
        "#### Configure Model"
      ],
      "metadata": {
        "id": "yZ9A8jSOss5k"
      }
    },
    {
      "cell_type": "code",
      "source": [
        "model.compile(loss='mean_squared_error', optimizer='nadam')"
      ],
      "metadata": {
        "id": "7NXopHixr49L"
      },
      "execution_count": 10,
      "outputs": []
    },
    {
      "cell_type": "code",
      "source": [
        "output_dir = 'model_output/'"
      ],
      "metadata": {
        "id": "fQVXUhUgtH-3"
      },
      "execution_count": 11,
      "outputs": []
    },
    {
      "cell_type": "code",
      "source": [
        "run_name = 'regression_drop50'\n",
        "output_path = output_dir + run_name"
      ],
      "metadata": {
        "id": "SciE8BkUtvBk"
      },
      "execution_count": 12,
      "outputs": []
    },
    {
      "cell_type": "code",
      "source": [
        "if not os.path.exists(output_path):\n",
        "  os.makedirs(output_path)"
      ],
      "metadata": {
        "id": "3WoVOIX6t9Ex"
      },
      "execution_count": 13,
      "outputs": []
    },
    {
      "cell_type": "code",
      "source": [
        "modelcheckpoint = ModelCheckpoint(output_path + '/weights.{epoch:02d}.hdf5', save_weights_only=True)"
      ],
      "metadata": {
        "id": "eZn-bkpluYE-"
      },
      "execution_count": 14,
      "outputs": []
    },
    {
      "cell_type": "code",
      "source": [
        "tensorboard = TensorBoard(log_dir = 'logs/' + run_name)"
      ],
      "metadata": {
        "id": "wPIOwTuq3LQ_"
      },
      "execution_count": 15,
      "outputs": []
    },
    {
      "cell_type": "markdown",
      "source": [
        "#### Train Model"
      ],
      "metadata": {
        "id": "_8r_G5TxvFyD"
      }
    },
    {
      "cell_type": "code",
      "source": [
        "model.fit(x_train, y_train,\n",
        "          batch_size = 8, epochs=32, verbose=1,\n",
        "          validation_data = (x_valid, y_valid),\n",
        "          callbacks =  [modelcheckpoint, tensorboard])"
      ],
      "metadata": {
        "colab": {
          "base_uri": "https://localhost:8080/"
        },
        "id": "xVGtPVNgu9QX",
        "outputId": "0a45bf33-b1f4-4a79-c26f-3f363b81aabb"
      },
      "execution_count": 16,
      "outputs": [
        {
          "output_type": "stream",
          "name": "stdout",
          "text": [
            "Epoch 1/32\n",
            "51/51 [==============================] - 3s 9ms/step - loss: 581.5638 - val_loss: 565.6111\n",
            "Epoch 2/32\n",
            "51/51 [==============================] - 0s 4ms/step - loss: 570.9958 - val_loss: 554.4988\n",
            "Epoch 3/32\n",
            "51/51 [==============================] - 0s 5ms/step - loss: 555.9479 - val_loss: 544.8421\n",
            "Epoch 4/32\n",
            "51/51 [==============================] - 0s 5ms/step - loss: 534.1643 - val_loss: 540.2019\n",
            "Epoch 5/32\n",
            "51/51 [==============================] - 0s 6ms/step - loss: 516.4315 - val_loss: 526.6102\n",
            "Epoch 6/32\n",
            "51/51 [==============================] - 0s 4ms/step - loss: 498.0510 - val_loss: 506.7386\n",
            "Epoch 7/32\n",
            "51/51 [==============================] - 0s 5ms/step - loss: 482.8836 - val_loss: 502.2791\n",
            "Epoch 8/32\n",
            "51/51 [==============================] - 0s 6ms/step - loss: 453.5139 - val_loss: 496.9796\n",
            "Epoch 9/32\n",
            "51/51 [==============================] - 0s 7ms/step - loss: 414.8444 - val_loss: 446.9670\n",
            "Epoch 10/32\n",
            "51/51 [==============================] - 0s 7ms/step - loss: 394.0599 - val_loss: 419.6949\n",
            "Epoch 11/32\n",
            "51/51 [==============================] - 0s 7ms/step - loss: 359.4067 - val_loss: 378.1238\n",
            "Epoch 12/32\n",
            "51/51 [==============================] - 0s 7ms/step - loss: 333.0471 - val_loss: 355.6101\n",
            "Epoch 13/32\n",
            "51/51 [==============================] - 0s 8ms/step - loss: 299.5071 - val_loss: 349.0616\n",
            "Epoch 14/32\n",
            "51/51 [==============================] - 0s 8ms/step - loss: 261.4189 - val_loss: 250.2956\n",
            "Epoch 15/32\n",
            "51/51 [==============================] - 0s 7ms/step - loss: 239.3365 - val_loss: 229.4072\n",
            "Epoch 16/32\n",
            "51/51 [==============================] - 0s 5ms/step - loss: 197.8150 - val_loss: 199.6225\n",
            "Epoch 17/32\n",
            "51/51 [==============================] - 0s 4ms/step - loss: 166.9211 - val_loss: 173.3680\n",
            "Epoch 18/32\n",
            "51/51 [==============================] - 0s 4ms/step - loss: 160.1174 - val_loss: 145.3793\n",
            "Epoch 19/32\n",
            "51/51 [==============================] - 0s 5ms/step - loss: 140.3430 - val_loss: 96.7792\n",
            "Epoch 20/32\n",
            "51/51 [==============================] - 0s 4ms/step - loss: 125.2568 - val_loss: 62.9019\n",
            "Epoch 21/32\n",
            "51/51 [==============================] - 0s 4ms/step - loss: 109.0050 - val_loss: 72.0214\n",
            "Epoch 22/32\n",
            "51/51 [==============================] - 0s 4ms/step - loss: 107.1962 - val_loss: 66.2460\n",
            "Epoch 23/32\n",
            "51/51 [==============================] - 0s 4ms/step - loss: 101.4789 - val_loss: 56.0665\n",
            "Epoch 24/32\n",
            "51/51 [==============================] - 0s 5ms/step - loss: 91.2998 - val_loss: 47.3770\n",
            "Epoch 25/32\n",
            "51/51 [==============================] - 0s 4ms/step - loss: 91.1117 - val_loss: 56.2155\n",
            "Epoch 26/32\n",
            "51/51 [==============================] - 0s 5ms/step - loss: 82.4162 - val_loss: 42.7134\n",
            "Epoch 27/32\n",
            "51/51 [==============================] - 0s 5ms/step - loss: 74.1350 - val_loss: 46.3994\n",
            "Epoch 28/32\n",
            "51/51 [==============================] - 0s 5ms/step - loss: 84.7411 - val_loss: 40.2745\n",
            "Epoch 29/32\n",
            "51/51 [==============================] - 0s 4ms/step - loss: 70.1831 - val_loss: 40.4267\n",
            "Epoch 30/32\n",
            "51/51 [==============================] - 0s 5ms/step - loss: 71.3978 - val_loss: 34.3007\n",
            "Epoch 31/32\n",
            "51/51 [==============================] - 0s 4ms/step - loss: 88.3093 - val_loss: 31.4966\n",
            "Epoch 32/32\n",
            "51/51 [==============================] - 0s 5ms/step - loss: 72.6642 - val_loss: 51.2928\n"
          ]
        },
        {
          "output_type": "execute_result",
          "data": {
            "text/plain": [
              "<keras.callbacks.History at 0x7fc7f6c86940>"
            ]
          },
          "metadata": {},
          "execution_count": 16
        }
      ]
    },
    {
      "cell_type": "markdown",
      "source": [
        "#### Performing Inference"
      ],
      "metadata": {
        "id": "_UypYQL9v-AM"
      }
    },
    {
      "cell_type": "code",
      "source": [
        "model.load_weights(output_path + '/weights.26.hdf5')"
      ],
      "metadata": {
        "id": "flgZstHOvo8J"
      },
      "execution_count": null,
      "outputs": []
    },
    {
      "cell_type": "code",
      "source": [
        "x_valid[42]"
      ],
      "metadata": {
        "colab": {
          "base_uri": "https://localhost:8080/"
        },
        "id": "zBlMB7ITwM0W",
        "outputId": "5a0eb08f-cc65-48a0-9801-48a21f8dc973"
      },
      "execution_count": null,
      "outputs": [
        {
          "output_type": "execute_result",
          "data": {
            "text/plain": [
              "array([  9.32909,   0.     ,  18.1    ,   0.     ,   0.713  ,   6.185  ,\n",
              "        98.7    ,   2.2616 ,  24.     , 666.     ,  20.2    , 396.9    ,\n",
              "        18.13   ])"
            ]
          },
          "metadata": {},
          "execution_count": 22
        }
      ]
    },
    {
      "cell_type": "code",
      "source": [
        "y_valid[42]"
      ],
      "metadata": {
        "colab": {
          "base_uri": "https://localhost:8080/"
        },
        "id": "myVTS15IwyOe",
        "outputId": "0610bb95-a61b-4bcf-ce17-339914cbf620"
      },
      "execution_count": null,
      "outputs": [
        {
          "output_type": "execute_result",
          "data": {
            "text/plain": [
              "14.1"
            ]
          },
          "metadata": {},
          "execution_count": 24
        }
      ]
    },
    {
      "cell_type": "code",
      "source": [
        "model.predict(np.reshape(x_valid[42], [1, 13]))"
      ],
      "metadata": {
        "colab": {
          "base_uri": "https://localhost:8080/"
        },
        "id": "4_eweMg4w0PL",
        "outputId": "5f93ddd6-dec6-4033-d337-108a28a838e1"
      },
      "execution_count": null,
      "outputs": [
        {
          "output_type": "stream",
          "name": "stdout",
          "text": [
            "1/1 [==============================] - 0s 26ms/step\n"
          ]
        },
        {
          "output_type": "execute_result",
          "data": {
            "text/plain": [
              "array([[14.703564]], dtype=float32)"
            ]
          },
          "metadata": {},
          "execution_count": 25
        }
      ]
    },
    {
      "cell_type": "code",
      "source": [],
      "metadata": {
        "id": "PfDtUhWTxA8O"
      },
      "execution_count": null,
      "outputs": []
    }
  ]
}