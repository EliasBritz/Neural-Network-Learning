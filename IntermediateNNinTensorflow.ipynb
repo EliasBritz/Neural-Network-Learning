{
  "nbformat": 4,
  "nbformat_minor": 0,
  "metadata": {
    "colab": {
      "provenance": [],
      "toc_visible": true
    },
    "kernelspec": {
      "name": "python3",
      "display_name": "Python 3"
    },
    "language_info": {
      "name": "python"
    }
  },
  "cells": [
    {
      "cell_type": "markdown",
      "source": [
        "# Intermediate Neural Network in Tensorflow"
      ],
      "metadata": {
        "id": "csrr0YJyVWHK"
      }
    },
    {
      "cell_type": "markdown",
      "source": [
        "#### Load Dependencies"
      ],
      "metadata": {
        "id": "EvUrEURyVki2"
      }
    },
    {
      "cell_type": "code",
      "execution_count": 1,
      "metadata": {
        "id": "IQVibsgLUxmr"
      },
      "outputs": [],
      "source": [
        "import tensorflow\n",
        "from tensorflow.keras.datasets import mnist\n",
        "from tensorflow.keras.utils import to_categorical\n",
        "from tensorflow.keras.models import Sequential\n",
        "from tensorflow.keras.layers import Dense\n",
        "from tensorflow.keras.optimizers import SGD\n",
        "from matplotlib import pyplot as plt\n",
        "import numpy as np"
      ]
    },
    {
      "cell_type": "markdown",
      "source": [
        "Load Data"
      ],
      "metadata": {
        "id": "9kYfuB4QVzHR"
      }
    },
    {
      "cell_type": "code",
      "source": [
        "(x_train, y_train), (x_valid, y_valid) = mnist.load_data()"
      ],
      "metadata": {
        "colab": {
          "base_uri": "https://localhost:8080/"
        },
        "id": "6bxp-5MhV4kc",
        "outputId": "f1456f70-44b4-47fd-fdee-ed42e9984978"
      },
      "execution_count": 2,
      "outputs": [
        {
          "output_type": "stream",
          "name": "stdout",
          "text": [
            "Downloading data from https://storage.googleapis.com/tensorflow/tf-keras-datasets/mnist.npz\n",
            "11490434/11490434 [==============================] - 1s 0us/step\n"
          ]
        }
      ]
    },
    {
      "cell_type": "markdown",
      "source": [
        "#### Preprocess data"
      ],
      "metadata": {
        "id": "lUtljFmwYgKv"
      }
    },
    {
      "cell_type": "code",
      "source": [
        "x_train = x_train.reshape(60000, 784).astype('float32')\n",
        "x_valid = x_valid.reshape(10000, 784).astype('float32')"
      ],
      "metadata": {
        "id": "8vtGD4z-YYCD"
      },
      "execution_count": 6,
      "outputs": []
    },
    {
      "cell_type": "code",
      "source": [
        "x_train /= 255\n",
        "x_valid /= 255"
      ],
      "metadata": {
        "id": "-wqLpk-5Y4wZ"
      },
      "execution_count": 7,
      "outputs": []
    },
    {
      "cell_type": "code",
      "source": [
        "n_classes = 10\n",
        "y_train = to_categorical(y_train, n_classes)\n",
        "y_valid = to_categorical(y_valid, n_classes)"
      ],
      "metadata": {
        "id": "ZpdYh_ZJZp82"
      },
      "execution_count": 8,
      "outputs": []
    },
    {
      "cell_type": "markdown",
      "source": [
        "Design NN architecture"
      ],
      "metadata": {
        "id": "3VChKWP5aTqh"
      }
    },
    {
      "cell_type": "code",
      "source": [
        "model = Sequential()\n",
        "\n",
        "#hidden layer:\n",
        "model.add(Dense(64, activation='relu', input_shape=(784,)))\n",
        "model.add(Dense(128, activation='relu'))\n",
        "#output layer:\n",
        "model.add(Dense(10, activation='softmax'))"
      ],
      "metadata": {
        "id": "s8vSl70zaGBz"
      },
      "execution_count": 9,
      "outputs": []
    },
    {
      "cell_type": "code",
      "source": [
        "model.summary()"
      ],
      "metadata": {
        "colab": {
          "base_uri": "https://localhost:8080/"
        },
        "id": "SygWZPJ3uufQ",
        "outputId": "320ccc66-f181-45fd-f10e-f4404053468f"
      },
      "execution_count": 10,
      "outputs": [
        {
          "output_type": "stream",
          "name": "stdout",
          "text": [
            "Model: \"sequential\"\n",
            "_________________________________________________________________\n",
            " Layer (type)                Output Shape              Param #   \n",
            "=================================================================\n",
            " dense (Dense)               (None, 64)                50240     \n",
            "                                                                 \n",
            " dense_1 (Dense)             (None, 128)               8320      \n",
            "                                                                 \n",
            " dense_2 (Dense)             (None, 10)                1290      \n",
            "                                                                 \n",
            "=================================================================\n",
            "Total params: 59,850\n",
            "Trainable params: 59,850\n",
            "Non-trainable params: 0\n",
            "_________________________________________________________________\n"
          ]
        }
      ]
    },
    {
      "cell_type": "markdown",
      "source": [
        "\n",
        "#### Compile Model\n",
        "\n"
      ],
      "metadata": {
        "id": "SuJRLJ7WwC1Q"
      }
    },
    {
      "cell_type": "code",
      "source": [
        "model.compile(loss='categorical_crossentropy', optimizer=SGD(learning_rate=0.1), metrics=('accuracy'))"
      ],
      "metadata": {
        "id": "fFy9lM-Vuykh"
      },
      "execution_count": 11,
      "outputs": []
    },
    {
      "cell_type": "markdown",
      "source": [
        "#### Train Model"
      ],
      "metadata": {
        "id": "w51LFsZmwngs"
      }
    },
    {
      "cell_type": "code",
      "source": [
        "model.fit(x_train, y_train, batch_size=128, epochs=20, verbose=1, validation_data=(x_valid, y_valid))"
      ],
      "metadata": {
        "colab": {
          "base_uri": "https://localhost:8080/"
        },
        "id": "_48R0-jBwrMT",
        "outputId": "7228c088-7d63-430e-fa53-8a1a4442e74f"
      },
      "execution_count": 12,
      "outputs": [
        {
          "output_type": "stream",
          "name": "stdout",
          "text": [
            "Epoch 1/20\n",
            "469/469 [==============================] - 3s 6ms/step - loss: 0.4913 - accuracy: 0.8602 - val_loss: 0.2751 - val_accuracy: 0.9215\n",
            "Epoch 2/20\n",
            "469/469 [==============================] - 2s 4ms/step - loss: 0.2349 - accuracy: 0.9306 - val_loss: 0.2034 - val_accuracy: 0.9412\n",
            "Epoch 3/20\n",
            "469/469 [==============================] - 2s 5ms/step - loss: 0.1802 - accuracy: 0.9464 - val_loss: 0.1658 - val_accuracy: 0.9475\n",
            "Epoch 4/20\n",
            "469/469 [==============================] - 2s 5ms/step - loss: 0.1489 - accuracy: 0.9568 - val_loss: 0.1596 - val_accuracy: 0.9509\n",
            "Epoch 5/20\n",
            "469/469 [==============================] - 3s 6ms/step - loss: 0.1277 - accuracy: 0.9619 - val_loss: 0.1470 - val_accuracy: 0.9552\n",
            "Epoch 6/20\n",
            "469/469 [==============================] - 2s 5ms/step - loss: 0.1109 - accuracy: 0.9672 - val_loss: 0.1134 - val_accuracy: 0.9663\n",
            "Epoch 7/20\n",
            "469/469 [==============================] - 2s 5ms/step - loss: 0.0989 - accuracy: 0.9701 - val_loss: 0.1162 - val_accuracy: 0.9656\n",
            "Epoch 8/20\n",
            "469/469 [==============================] - 2s 5ms/step - loss: 0.0885 - accuracy: 0.9730 - val_loss: 0.1013 - val_accuracy: 0.9705\n",
            "Epoch 9/20\n",
            "469/469 [==============================] - 2s 5ms/step - loss: 0.0803 - accuracy: 0.9761 - val_loss: 0.1018 - val_accuracy: 0.9696\n",
            "Epoch 10/20\n",
            "469/469 [==============================] - 3s 6ms/step - loss: 0.0740 - accuracy: 0.9781 - val_loss: 0.0983 - val_accuracy: 0.9708\n",
            "Epoch 11/20\n",
            "469/469 [==============================] - 2s 5ms/step - loss: 0.0674 - accuracy: 0.9800 - val_loss: 0.0880 - val_accuracy: 0.9738\n",
            "Epoch 12/20\n",
            "469/469 [==============================] - 2s 4ms/step - loss: 0.0616 - accuracy: 0.9816 - val_loss: 0.0847 - val_accuracy: 0.9746\n",
            "Epoch 13/20\n",
            "469/469 [==============================] - 2s 5ms/step - loss: 0.0572 - accuracy: 0.9830 - val_loss: 0.0960 - val_accuracy: 0.9707\n",
            "Epoch 14/20\n",
            "469/469 [==============================] - 2s 5ms/step - loss: 0.0521 - accuracy: 0.9846 - val_loss: 0.0872 - val_accuracy: 0.9737\n",
            "Epoch 15/20\n",
            "469/469 [==============================] - 3s 5ms/step - loss: 0.0492 - accuracy: 0.9854 - val_loss: 0.0831 - val_accuracy: 0.9759\n",
            "Epoch 16/20\n",
            "469/469 [==============================] - 3s 6ms/step - loss: 0.0453 - accuracy: 0.9862 - val_loss: 0.0807 - val_accuracy: 0.9748\n",
            "Epoch 17/20\n",
            "469/469 [==============================] - 2s 5ms/step - loss: 0.0426 - accuracy: 0.9873 - val_loss: 0.0849 - val_accuracy: 0.9734\n",
            "Epoch 18/20\n",
            "469/469 [==============================] - 2s 5ms/step - loss: 0.0393 - accuracy: 0.9883 - val_loss: 0.0823 - val_accuracy: 0.9753\n",
            "Epoch 19/20\n",
            "469/469 [==============================] - 2s 4ms/step - loss: 0.0367 - accuracy: 0.9895 - val_loss: 0.0842 - val_accuracy: 0.9744\n",
            "Epoch 20/20\n",
            "469/469 [==============================] - 2s 5ms/step - loss: 0.0339 - accuracy: 0.9898 - val_loss: 0.0815 - val_accuracy: 0.9744\n"
          ]
        },
        {
          "output_type": "execute_result",
          "data": {
            "text/plain": [
              "<keras.callbacks.History at 0x7f540c764850>"
            ]
          },
          "metadata": {},
          "execution_count": 12
        }
      ]
    },
    {
      "cell_type": "markdown",
      "source": [
        "#### Evaluating Model Performance"
      ],
      "metadata": {
        "id": "j804MQqfCG-d"
      }
    },
    {
      "cell_type": "code",
      "source": [
        "model.evaluate(x_valid, y_valid)"
      ],
      "metadata": {
        "colab": {
          "base_uri": "https://localhost:8080/"
        },
        "id": "xlT2aaY8w-Hm",
        "outputId": "2a5a744f-7953-49e5-9cc1-89671a6d3036"
      },
      "execution_count": 13,
      "outputs": [
        {
          "output_type": "stream",
          "name": "stdout",
          "text": [
            "313/313 [==============================] - 1s 2ms/step - loss: 0.0815 - accuracy: 0.9744\n"
          ]
        },
        {
          "output_type": "execute_result",
          "data": {
            "text/plain": [
              "[0.08152546733617783, 0.974399983882904]"
            ]
          },
          "metadata": {},
          "execution_count": 13
        }
      ]
    },
    {
      "cell_type": "markdown",
      "source": [
        "#### Performing inference"
      ],
      "metadata": {
        "id": "Dl27dgLiCWUr"
      }
    },
    {
      "cell_type": "code",
      "source": [
        "valid_0 = x_valid[0].reshape(1, 784)"
      ],
      "metadata": {
        "id": "7KfAufsaCZrj"
      },
      "execution_count": 14,
      "outputs": []
    },
    {
      "cell_type": "code",
      "source": [
        "y_valid[0]"
      ],
      "metadata": {
        "colab": {
          "base_uri": "https://localhost:8080/"
        },
        "id": "9C5ry4sSzNPY",
        "outputId": "2ee0d07a-f8fc-4863-bc51-61dac76b9528"
      },
      "execution_count": 16,
      "outputs": [
        {
          "output_type": "execute_result",
          "data": {
            "text/plain": [
              "array([0., 0., 0., 0., 0., 0., 0., 1., 0., 0.], dtype=float32)"
            ]
          },
          "metadata": {},
          "execution_count": 16
        }
      ]
    },
    {
      "cell_type": "code",
      "source": [
        "model.predict(valid_0)"
      ],
      "metadata": {
        "colab": {
          "base_uri": "https://localhost:8080/"
        },
        "id": "5fxD9h68CtG0",
        "outputId": "ba6a62f0-eb06-40a0-8ba5-6934747fc37e"
      },
      "execution_count": 15,
      "outputs": [
        {
          "output_type": "stream",
          "name": "stdout",
          "text": [
            "1/1 [==============================] - 0s 129ms/step\n"
          ]
        },
        {
          "output_type": "execute_result",
          "data": {
            "text/plain": [
              "array([[6.92714508e-09, 1.55997899e-08, 1.37060797e-05, 2.38324228e-05,\n",
              "        1.15348975e-09, 1.13821566e-08, 1.70890570e-15, 9.99960780e-01,\n",
              "        1.63055020e-07, 1.49913433e-06]], dtype=float32)"
            ]
          },
          "metadata": {},
          "execution_count": 15
        }
      ]
    },
    {
      "cell_type": "code",
      "source": [
        "np.argmax(model.predict(valid_0), axis=-1)"
      ],
      "metadata": {
        "colab": {
          "base_uri": "https://localhost:8080/"
        },
        "id": "k-oM3bWuCv-1",
        "outputId": "616b56f2-1673-4770-a420-94c04fcb0ea6"
      },
      "execution_count": null,
      "outputs": [
        {
          "output_type": "stream",
          "name": "stdout",
          "text": [
            "1/1 [==============================] - 0s 34ms/step\n"
          ]
        },
        {
          "output_type": "execute_result",
          "data": {
            "text/plain": [
              "array([7])"
            ]
          },
          "metadata": {},
          "execution_count": 38
        }
      ]
    },
    {
      "cell_type": "code",
      "source": [],
      "metadata": {
        "id": "JqxsFwGxDGiR"
      },
      "execution_count": null,
      "outputs": []
    }
  ]
}