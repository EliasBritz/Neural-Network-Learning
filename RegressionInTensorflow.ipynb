{
  "nbformat": 4,
  "nbformat_minor": 0,
  "metadata": {
    "colab": {
      "provenance": []
    },
    "kernelspec": {
      "name": "python3",
      "display_name": "Python 3"
    },
    "language_info": {
      "name": "python"
    }
  },
  "cells": [
    {
      "cell_type": "markdown",
      "source": [
        "# Regression Example in Tensorflow"
      ],
      "metadata": {
        "id": "2ufOcbRTqZ-i"
      }
    },
    {
      "cell_type": "markdown",
      "source": [
        "#### Load Dependencies"
      ],
      "metadata": {
        "id": "YQ2sIVN0qeKR"
      }
    },
    {
      "cell_type": "code",
      "execution_count": 1,
      "metadata": {
        "id": "JlNGqf9aqVRS"
      },
      "outputs": [],
      "source": [
        "import numpy as np\n",
        "from tensorflow.keras.datasets import boston_housing\n",
        "from tensorflow.keras.models import Sequential\n",
        "from tensorflow.keras.layers import Dense, Dropout\n",
        "from tensorflow.keras.layers import BatchNormalization\n",
        "from tensorflow.keras.callbacks import ModelCheckpoint\n",
        "import os"
      ]
    },
    {
      "cell_type": "markdown",
      "source": [
        "#### Load Data"
      ],
      "metadata": {
        "id": "i5mZH6iUrOB-"
      }
    },
    {
      "cell_type": "code",
      "source": [
        "(x_train, y_train), (x_valid, y_valid) = boston_housing.load_data()"
      ],
      "metadata": {
        "id": "Q1_ymf-NrCk0"
      },
      "execution_count": 2,
      "outputs": []
    },
    {
      "cell_type": "code",
      "source": [
        "x_train.shape"
      ],
      "metadata": {
        "colab": {
          "base_uri": "https://localhost:8080/"
        },
        "id": "BHt96KotrSfg",
        "outputId": "bc14b0f6-85a5-4677-c87a-5957a7dad0da"
      },
      "execution_count": 3,
      "outputs": [
        {
          "output_type": "execute_result",
          "data": {
            "text/plain": [
              "(404, 13)"
            ]
          },
          "metadata": {},
          "execution_count": 3
        }
      ]
    },
    {
      "cell_type": "code",
      "source": [
        "x_valid.shape"
      ],
      "metadata": {
        "colab": {
          "base_uri": "https://localhost:8080/"
        },
        "id": "fwfhm8R5rXzR",
        "outputId": "24a3e452-7765-4f27-8393-5fd851716b92"
      },
      "execution_count": 4,
      "outputs": [
        {
          "output_type": "execute_result",
          "data": {
            "text/plain": [
              "(102, 13)"
            ]
          },
          "metadata": {},
          "execution_count": 4
        }
      ]
    },
    {
      "cell_type": "code",
      "source": [
        "x_train[0]"
      ],
      "metadata": {
        "colab": {
          "base_uri": "https://localhost:8080/"
        },
        "id": "LqhekHLbrdw1",
        "outputId": "323005c5-be56-46e9-cee7-08379c5eb868"
      },
      "execution_count": 5,
      "outputs": [
        {
          "output_type": "execute_result",
          "data": {
            "text/plain": [
              "array([  1.23247,   0.     ,   8.14   ,   0.     ,   0.538  ,   6.142  ,\n",
              "        91.7    ,   3.9769 ,   4.     , 307.     ,  21.     , 396.9    ,\n",
              "        18.72   ])"
            ]
          },
          "metadata": {},
          "execution_count": 5
        }
      ]
    },
    {
      "cell_type": "code",
      "source": [
        "y_train[0]"
      ],
      "metadata": {
        "colab": {
          "base_uri": "https://localhost:8080/"
        },
        "id": "gKEa29u2rn6V",
        "outputId": "c6be97be-10cd-4eba-d143-2eb58f4c944a"
      },
      "execution_count": 6,
      "outputs": [
        {
          "output_type": "execute_result",
          "data": {
            "text/plain": [
              "15.2"
            ]
          },
          "metadata": {},
          "execution_count": 6
        }
      ]
    },
    {
      "cell_type": "markdown",
      "source": [
        "#### Design Neural Network Architecture"
      ],
      "metadata": {
        "id": "_rlSfPOgrv2U"
      }
    },
    {
      "cell_type": "code",
      "source": [
        "model = Sequential()\n",
        "\n",
        "#first hidden layer\n",
        "model.add(Dense(32, input_dim=13, activation='relu'))\n",
        "model.add(BatchNormalization())\n",
        "\n",
        "#second hidden layer\n",
        "model.add(Dense(16, activation='relu'))\n",
        "model.add(BatchNormalization())\n",
        "model.add(Dropout(0.2))\n",
        "\n",
        "#output Layer\n",
        "model.add(Dense(1, activation='linear'))"
      ],
      "metadata": {
        "id": "JBnd8Z83rqE9"
      },
      "execution_count": 7,
      "outputs": []
    },
    {
      "cell_type": "code",
      "source": [
        "model.summary()"
      ],
      "metadata": {
        "colab": {
          "base_uri": "https://localhost:8080/"
        },
        "id": "HeuW04Hsr4AN",
        "outputId": "94250d5f-4ba9-4fda-e261-e0228fdefa5f"
      },
      "execution_count": 8,
      "outputs": [
        {
          "output_type": "stream",
          "name": "stdout",
          "text": [
            "Model: \"sequential\"\n",
            "_________________________________________________________________\n",
            " Layer (type)                Output Shape              Param #   \n",
            "=================================================================\n",
            " dense (Dense)               (None, 32)                448       \n",
            "                                                                 \n",
            " batch_normalization (BatchN  (None, 32)               128       \n",
            " ormalization)                                                   \n",
            "                                                                 \n",
            " dense_1 (Dense)             (None, 16)                528       \n",
            "                                                                 \n",
            " batch_normalization_1 (Batc  (None, 16)               64        \n",
            " hNormalization)                                                 \n",
            "                                                                 \n",
            " dropout (Dropout)           (None, 16)                0         \n",
            "                                                                 \n",
            " dense_2 (Dense)             (None, 1)                 17        \n",
            "                                                                 \n",
            "=================================================================\n",
            "Total params: 1,185\n",
            "Trainable params: 1,089\n",
            "Non-trainable params: 96\n",
            "_________________________________________________________________\n"
          ]
        }
      ]
    },
    {
      "cell_type": "markdown",
      "source": [
        "#### Configure Model"
      ],
      "metadata": {
        "id": "yZ9A8jSOss5k"
      }
    },
    {
      "cell_type": "code",
      "source": [
        "model.compile(loss='mean_squared_error', optimizer='nadam')"
      ],
      "metadata": {
        "id": "7NXopHixr49L"
      },
      "execution_count": 9,
      "outputs": []
    },
    {
      "cell_type": "code",
      "source": [
        "output_dir = 'model_output/'"
      ],
      "metadata": {
        "id": "fQVXUhUgtH-3"
      },
      "execution_count": 10,
      "outputs": []
    },
    {
      "cell_type": "code",
      "source": [
        "run_name = 'regression_baseline'\n",
        "output_path = output_dir + run_name"
      ],
      "metadata": {
        "id": "SciE8BkUtvBk"
      },
      "execution_count": 11,
      "outputs": []
    },
    {
      "cell_type": "code",
      "source": [
        "if not os.path.exists(output_path):\n",
        "  os.makedirs(output_path)"
      ],
      "metadata": {
        "id": "3WoVOIX6t9Ex"
      },
      "execution_count": 12,
      "outputs": []
    },
    {
      "cell_type": "code",
      "source": [
        "modelcheckpoint = ModelCheckpoint(output_path + '/weights.{epoch:02d}.hdf5', save_weights_only=True)"
      ],
      "metadata": {
        "id": "eZn-bkpluYE-"
      },
      "execution_count": 13,
      "outputs": []
    },
    {
      "cell_type": "markdown",
      "source": [
        "#### Train Model"
      ],
      "metadata": {
        "id": "_8r_G5TxvFyD"
      }
    },
    {
      "cell_type": "code",
      "source": [
        "model.fit(x_train, y_train,\n",
        "          batch_size = 8, epochs=32, verbose=1,\n",
        "          validation_data = (x_valid, y_valid),\n",
        "          callbacks =  [modelcheckpoint])"
      ],
      "metadata": {
        "colab": {
          "base_uri": "https://localhost:8080/"
        },
        "id": "xVGtPVNgu9QX",
        "outputId": "ef0176ac-4094-46a3-c9be-f28fff038f1c"
      },
      "execution_count": 14,
      "outputs": [
        {
          "output_type": "stream",
          "name": "stdout",
          "text": [
            "Epoch 1/32\n",
            "51/51 [==============================] - 5s 9ms/step - loss: 574.5326 - val_loss: 428.8710\n",
            "Epoch 2/32\n",
            "51/51 [==============================] - 0s 4ms/step - loss: 553.7610 - val_loss: 471.5338\n",
            "Epoch 3/32\n",
            "51/51 [==============================] - 0s 4ms/step - loss: 537.0491 - val_loss: 473.4468\n",
            "Epoch 4/32\n",
            "51/51 [==============================] - 0s 4ms/step - loss: 513.6149 - val_loss: 474.2557\n",
            "Epoch 5/32\n",
            "51/51 [==============================] - 0s 3ms/step - loss: 491.6706 - val_loss: 444.0755\n",
            "Epoch 6/32\n",
            "51/51 [==============================] - 0s 4ms/step - loss: 457.4970 - val_loss: 487.1745\n",
            "Epoch 7/32\n",
            "51/51 [==============================] - 0s 4ms/step - loss: 424.8215 - val_loss: 397.8295\n",
            "Epoch 8/32\n",
            "51/51 [==============================] - 0s 3ms/step - loss: 390.9253 - val_loss: 398.1049\n",
            "Epoch 9/32\n",
            "51/51 [==============================] - 0s 4ms/step - loss: 347.3394 - val_loss: 400.3443\n",
            "Epoch 10/32\n",
            "51/51 [==============================] - 0s 3ms/step - loss: 302.2641 - val_loss: 310.4532\n",
            "Epoch 11/32\n",
            "51/51 [==============================] - 0s 4ms/step - loss: 269.0823 - val_loss: 225.2034\n",
            "Epoch 12/32\n",
            "51/51 [==============================] - 0s 4ms/step - loss: 222.8823 - val_loss: 176.4860\n",
            "Epoch 13/32\n",
            "51/51 [==============================] - 0s 4ms/step - loss: 188.7653 - val_loss: 213.8147\n",
            "Epoch 14/32\n",
            "51/51 [==============================] - 0s 4ms/step - loss: 169.9466 - val_loss: 277.5630\n",
            "Epoch 15/32\n",
            "51/51 [==============================] - 0s 4ms/step - loss: 130.4585 - val_loss: 262.2728\n",
            "Epoch 16/32\n",
            "51/51 [==============================] - 0s 7ms/step - loss: 107.2001 - val_loss: 95.7277\n",
            "Epoch 17/32\n",
            "51/51 [==============================] - 0s 5ms/step - loss: 90.5155 - val_loss: 91.5170\n",
            "Epoch 18/32\n",
            "51/51 [==============================] - 0s 5ms/step - loss: 78.3771 - val_loss: 57.8401\n",
            "Epoch 19/32\n",
            "51/51 [==============================] - 0s 5ms/step - loss: 68.4876 - val_loss: 43.2229\n",
            "Epoch 20/32\n",
            "51/51 [==============================] - 0s 6ms/step - loss: 57.5584 - val_loss: 43.5707\n",
            "Epoch 21/32\n",
            "51/51 [==============================] - 0s 6ms/step - loss: 52.8388 - val_loss: 26.6705\n",
            "Epoch 22/32\n",
            "51/51 [==============================] - 0s 5ms/step - loss: 55.8760 - val_loss: 68.1366\n",
            "Epoch 23/32\n",
            "51/51 [==============================] - 0s 6ms/step - loss: 51.6965 - val_loss: 45.9577\n",
            "Epoch 24/32\n",
            "51/51 [==============================] - 0s 6ms/step - loss: 51.7505 - val_loss: 31.6784\n",
            "Epoch 25/32\n",
            "51/51 [==============================] - 0s 4ms/step - loss: 40.7808 - val_loss: 32.0026\n",
            "Epoch 26/32\n",
            "51/51 [==============================] - 0s 3ms/step - loss: 44.0192 - val_loss: 23.9071\n",
            "Epoch 27/32\n",
            "51/51 [==============================] - 0s 4ms/step - loss: 38.9626 - val_loss: 33.4297\n",
            "Epoch 28/32\n",
            "51/51 [==============================] - 0s 4ms/step - loss: 47.9532 - val_loss: 49.6478\n",
            "Epoch 29/32\n",
            "51/51 [==============================] - 0s 4ms/step - loss: 43.8611 - val_loss: 28.3469\n",
            "Epoch 30/32\n",
            "51/51 [==============================] - 0s 4ms/step - loss: 41.1631 - val_loss: 39.2117\n",
            "Epoch 31/32\n",
            "51/51 [==============================] - 0s 4ms/step - loss: 43.8806 - val_loss: 59.2842\n",
            "Epoch 32/32\n",
            "51/51 [==============================] - 0s 3ms/step - loss: 47.2450 - val_loss: 30.2824\n"
          ]
        },
        {
          "output_type": "execute_result",
          "data": {
            "text/plain": [
              "<keras.callbacks.History at 0x7f5668135b50>"
            ]
          },
          "metadata": {},
          "execution_count": 14
        }
      ]
    },
    {
      "cell_type": "markdown",
      "source": [
        "#### Performing Inference"
      ],
      "metadata": {
        "id": "_UypYQL9v-AM"
      }
    },
    {
      "cell_type": "code",
      "source": [
        "model.load_weights(output_path + '/weights.26.hdf5')"
      ],
      "metadata": {
        "id": "flgZstHOvo8J"
      },
      "execution_count": 21,
      "outputs": []
    },
    {
      "cell_type": "code",
      "source": [
        "x_valid[42]"
      ],
      "metadata": {
        "colab": {
          "base_uri": "https://localhost:8080/"
        },
        "id": "zBlMB7ITwM0W",
        "outputId": "5a0eb08f-cc65-48a0-9801-48a21f8dc973"
      },
      "execution_count": 22,
      "outputs": [
        {
          "output_type": "execute_result",
          "data": {
            "text/plain": [
              "array([  9.32909,   0.     ,  18.1    ,   0.     ,   0.713  ,   6.185  ,\n",
              "        98.7    ,   2.2616 ,  24.     , 666.     ,  20.2    , 396.9    ,\n",
              "        18.13   ])"
            ]
          },
          "metadata": {},
          "execution_count": 22
        }
      ]
    },
    {
      "cell_type": "code",
      "source": [
        "y_valid[42]"
      ],
      "metadata": {
        "colab": {
          "base_uri": "https://localhost:8080/"
        },
        "id": "myVTS15IwyOe",
        "outputId": "0610bb95-a61b-4bcf-ce17-339914cbf620"
      },
      "execution_count": 24,
      "outputs": [
        {
          "output_type": "execute_result",
          "data": {
            "text/plain": [
              "14.1"
            ]
          },
          "metadata": {},
          "execution_count": 24
        }
      ]
    },
    {
      "cell_type": "code",
      "source": [
        "model.predict(np.reshape(x_valid[42], [1, 13]))"
      ],
      "metadata": {
        "colab": {
          "base_uri": "https://localhost:8080/"
        },
        "id": "4_eweMg4w0PL",
        "outputId": "5f93ddd6-dec6-4033-d337-108a28a838e1"
      },
      "execution_count": 25,
      "outputs": [
        {
          "output_type": "stream",
          "name": "stdout",
          "text": [
            "1/1 [==============================] - 0s 26ms/step\n"
          ]
        },
        {
          "output_type": "execute_result",
          "data": {
            "text/plain": [
              "array([[14.703564]], dtype=float32)"
            ]
          },
          "metadata": {},
          "execution_count": 25
        }
      ]
    },
    {
      "cell_type": "code",
      "source": [],
      "metadata": {
        "id": "PfDtUhWTxA8O"
      },
      "execution_count": null,
      "outputs": []
    }
  ]
}